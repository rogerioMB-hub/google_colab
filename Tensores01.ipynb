{
  "nbformat": 4,
  "nbformat_minor": 0,
  "metadata": {
    "colab": {
      "provenance": [],
      "authorship_tag": "ABX9TyM761zqnMl8ZTlRrJDYiPCB",
      "include_colab_link": true
    },
    "kernelspec": {
      "name": "python3",
      "display_name": "Python 3"
    },
    "language_info": {
      "name": "python"
    }
  },
  "cells": [
    {
      "cell_type": "markdown",
      "metadata": {
        "id": "view-in-github",
        "colab_type": "text"
      },
      "source": [
        "<a href=\"https://colab.research.google.com/github/rogerioMB-hub/google_colab/blob/main/Tensores01.ipynb\" target=\"_parent\"><img src=\"https://colab.research.google.com/assets/colab-badge.svg\" alt=\"Open In Colab\"/></a>"
      ]
    },
    {
      "cell_type": "markdown",
      "source": [
        "Importing the Pytorch"
      ],
      "metadata": {
        "id": "6IEl3ugIyQgp"
      }
    },
    {
      "cell_type": "code",
      "source": [
        "import torch"
      ],
      "metadata": {
        "id": "9qxcOiVMyPZ8"
      },
      "execution_count": 18,
      "outputs": []
    },
    {
      "cell_type": "markdown",
      "source": [
        "Creating a tensor v"
      ],
      "metadata": {
        "id": "jreON1Ntx_lK"
      }
    },
    {
      "cell_type": "code",
      "execution_count": 19,
      "metadata": {
        "colab": {
          "base_uri": "https://localhost:8080/"
        },
        "id": "QbpXDKZYsgc3",
        "outputId": "f1b80cdc-7770-4675-87fc-c4325cdd6983"
      },
      "outputs": [
        {
          "output_type": "stream",
          "name": "stdout",
          "text": [
            "tensor(1)\n"
          ]
        }
      ],
      "source": [
        "v = torch.tensor([1, 2, 3, 4, 5, 6])\n",
        "print(v[0])\n"
      ]
    },
    {
      "cell_type": "code",
      "source": [
        "print(v[2:])\n"
      ],
      "metadata": {
        "colab": {
          "base_uri": "https://localhost:8080/"
        },
        "id": "Z6qF18Gatbuw",
        "outputId": "fd46e66f-ee59-4749-ceb5-214979a4afb8"
      },
      "execution_count": 13,
      "outputs": [
        {
          "output_type": "stream",
          "name": "stdout",
          "text": [
            "tensor([3, 4, 5, 6])\n"
          ]
        }
      ]
    },
    {
      "cell_type": "markdown",
      "source": [
        "Creating a float type tensor f"
      ],
      "metadata": {
        "id": "NEHG_KZ4yd1Q"
      }
    },
    {
      "cell_type": "code",
      "source": [
        "f = torch.FloatTensor([1, 2, 3, 4, 5, 6])\n",
        "print(f.dtype)\n",
        "print(f.size() )"
      ],
      "metadata": {
        "colab": {
          "base_uri": "https://localhost:8080/"
        },
        "id": "yfcFr6ZStziE",
        "outputId": "5afc5c24-6bb7-4af5-9477-cc2bcfaa89f3"
      },
      "execution_count": 15,
      "outputs": [
        {
          "output_type": "stream",
          "name": "stdout",
          "text": [
            "torch.float32\n",
            "torch.Size([6])\n"
          ]
        }
      ]
    },
    {
      "cell_type": "markdown",
      "source": [
        "Viewing and rashapping a tensor"
      ],
      "metadata": {
        "id": "DqTSSKwcyxgK"
      }
    },
    {
      "cell_type": "code",
      "source": [
        "v.view(6, 1)"
      ],
      "metadata": {
        "colab": {
          "base_uri": "https://localhost:8080/"
        },
        "id": "QY2Gc_IDuJ3_",
        "outputId": "176584a0-9967-4153-9b82-2cf85de1b7dc"
      },
      "execution_count": 16,
      "outputs": [
        {
          "output_type": "execute_result",
          "data": {
            "text/plain": [
              "tensor([[1],\n",
              "        [2],\n",
              "        [3],\n",
              "        [4],\n",
              "        [5],\n",
              "        [6]])"
            ]
          },
          "metadata": {},
          "execution_count": 16
        }
      ]
    },
    {
      "cell_type": "code",
      "source": [
        "v.view(3, 2)"
      ],
      "metadata": {
        "colab": {
          "base_uri": "https://localhost:8080/"
        },
        "id": "Oggwc4eWu5s2",
        "outputId": "7ab525be-9ce3-42a0-8abd-7e0ab99c6d5d"
      },
      "execution_count": 17,
      "outputs": [
        {
          "output_type": "execute_result",
          "data": {
            "text/plain": [
              "tensor([[1, 2],\n",
              "        [3, 4],\n",
              "        [5, 6]])"
            ]
          },
          "metadata": {},
          "execution_count": 17
        }
      ]
    }
  ]
}