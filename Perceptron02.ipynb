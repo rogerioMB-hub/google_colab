{
  "nbformat": 4,
  "nbformat_minor": 0,
  "metadata": {
    "colab": {
      "provenance": [],
      "authorship_tag": "ABX9TyOOG0C7KwcuL5k0ODkxbhUo",
      "include_colab_link": true
    },
    "kernelspec": {
      "name": "python3",
      "display_name": "Python 3"
    },
    "language_info": {
      "name": "python"
    }
  },
  "cells": [
    {
      "cell_type": "markdown",
      "metadata": {
        "id": "view-in-github",
        "colab_type": "text"
      },
      "source": [
        "<a href=\"https://colab.research.google.com/github/rogerioMB-hub/google_colab/blob/main/Perceptron02.ipynb\" target=\"_parent\"><img src=\"https://colab.research.google.com/assets/colab-badge.svg\" alt=\"Open In Colab\"/></a>"
      ]
    },
    {
      "cell_type": "code",
      "source": [
        "import torch\n",
        "import numpy as np\n",
        "import matplotlib.pyplot as plt\n",
        "import torch.nn as nn\n",
        "from sklearn import datasets"
      ],
      "metadata": {
        "id": "SDeg58-85R-0"
      },
      "execution_count": 41,
      "outputs": []
    },
    {
      "cell_type": "code",
      "source": [
        "# criando um dataset para classificação.\n",
        "#     100 amostras\n",
        "n_pts = 100\n",
        "#     2 centros, relativamente próximos\n",
        "centers = [[-0.5, 0.5], [0.5, -0.5]]\n",
        "#     gerando o dataset, com 100 amostras, uma semente fixa aleatória (=123, p.ex.),\n",
        "#        com dois centroides de pontos para geração de dados e com\n",
        "#        um desvio padrao de 0.4 entre as amostras geradas (isso faz com que as\n",
        "#        amostras não sejam todas geradas, precisamente, no mesmo ponto). Qto maior o\n",
        "#        cluster_std, mais espalhadas elas ficam do ponto inicial escolhido.\n",
        "pts_, labels_ = datasets.make_blobs(n_samples=n_pts, random_state=123, centers=centers, cluster_std=0.4)"
      ],
      "metadata": {
        "id": "G0EPkMaB5kDw"
      },
      "execution_count": 42,
      "outputs": []
    },
    {
      "cell_type": "code",
      "source": [
        "print(pts_.shape)       # os dados gerados estão em um array numpy de 2 dimensões\n",
        "print(labels_.shape)    # os labels são arrays numpy de uma dimensão\n",
        "\n",
        "print(pts_)             # como se pode observar\n",
        "print(labels_)          # os labels indicam a que centroide pertence o ponto"
      ],
      "metadata": {
        "colab": {
          "base_uri": "https://localhost:8080/"
        },
        "id": "ypG5CnzK94rO",
        "outputId": "69214c29-5a44-4102-e91b-48b2d25a0564"
      },
      "execution_count": 43,
      "outputs": [
        {
          "output_type": "stream",
          "name": "stdout",
          "text": [
            "(100, 2)\n",
            "(100,)\n",
            "[[-0.13715792 -0.07147228]\n",
            " [ 0.80437976 -0.37061246]\n",
            " [-0.60224775 -0.61943564]\n",
            " [ 0.57087693 -0.5119872 ]\n",
            " [ 0.0063745   0.15330384]\n",
            " [-0.87433355  0.97033162]\n",
            " [ 0.19742512 -0.37132537]\n",
            " [-0.6340043   0.91244578]\n",
            " [-0.48180397  0.40676318]\n",
            " [ 0.19748489  0.18077491]\n",
            " [-0.62590326  0.06563904]\n",
            " [-0.31262435  0.16753801]\n",
            " [-0.1085056   1.39525734]\n",
            " [ 0.09825765  0.92775707]\n",
            " [-0.36456438  0.4952678 ]\n",
            " [ 0.75682188 -1.29115517]\n",
            " [ 0.33484534  0.56577649]\n",
            " [-0.66134642  0.44958817]\n",
            " [ 0.34335208 -0.44400876]\n",
            " [-0.42758595  0.97114478]\n",
            " [-0.09837844  0.65447456]\n",
            " [ 0.45694611  0.66516486]\n",
            " [-0.12901503  0.43054573]\n",
            " [ 0.67045866 -1.1421639 ]\n",
            " [ 0.82493653 -0.30010394]\n",
            " [ 0.72261948 -0.58483205]\n",
            " [-0.49886163  0.77528908]\n",
            " [-0.03991778 -0.00694082]\n",
            " [ 1.05814117 -0.64357437]\n",
            " [ 0.60152659 -0.38650986]\n",
            " [ 0.57181979 -1.24479028]\n",
            " [-0.20505257  1.09629281]\n",
            " [ 1.14347639 -0.60809296]\n",
            " [-0.97932046  0.57980963]\n",
            " [ 0.20367449 -0.4708371 ]\n",
            " [-0.79298479  0.01499075]\n",
            " [ 0.5081264  -0.57758555]\n",
            " [-1.00155227  0.2448994 ]\n",
            " [ 0.53169081 -0.60975863]\n",
            " [-0.83500669 -0.1423851 ]\n",
            " [ 0.164381    0.82292327]\n",
            " [ 0.28043183 -0.89122308]\n",
            " [ 0.90509562 -0.38850366]\n",
            " [ 0.00209495  0.22445241]\n",
            " [ 0.38237203  1.37471444]\n",
            " [ 0.38968559 -0.72084323]\n",
            " [ 0.40413249 -0.44267691]\n",
            " [ 0.68973892 -0.72556957]\n",
            " [-0.14371744  1.20195447]\n",
            " [ 0.57983284 -0.55044711]\n",
            " [ 0.66123438  0.08877175]\n",
            " [ 0.55361072 -0.21821037]\n",
            " [-0.34823976  0.34832943]\n",
            " [-0.77155446  0.46211641]\n",
            " [ 0.28041796  0.22238804]\n",
            " [ 0.68250836  0.11781778]\n",
            " [-1.01763413  0.08448472]\n",
            " [-0.82214661 -0.1910678 ]\n",
            " [ 0.20591322 -0.2995004 ]\n",
            " [-0.03511838  0.06111878]\n",
            " [-0.93382716 -0.04538862]\n",
            " [ 0.57880757 -1.792422  ]\n",
            " [ 0.08040333 -0.53004824]\n",
            " [ 1.10754625 -0.64160005]\n",
            " [-0.3868086  -0.10251789]\n",
            " [-1.20861324  0.22004911]\n",
            " [ 0.10107141 -0.94001725]\n",
            " [-0.48812671  0.92772639]\n",
            " [ 0.54829895 -0.20071375]\n",
            " [-0.67759278  0.32625949]\n",
            " [ 0.3922826  -0.54434029]\n",
            " [-0.3742912  -0.03050618]\n",
            " [ 1.28376454 -1.31001831]\n",
            " [-0.06475555 -1.25074746]\n",
            " [-0.65635992  0.72952234]\n",
            " [ 0.62295369 -0.74449014]\n",
            " [-0.80908349  0.81794507]\n",
            " [ 1.05090299 -0.55727039]\n",
            " [ 0.32892816 -0.00285218]\n",
            " [ 0.06691962  0.82289461]\n",
            " [ 0.76626138 -0.85936918]\n",
            " [-0.55602749  0.15529804]\n",
            " [-0.7314401   1.16057461]\n",
            " [ 1.10946551 -0.93801058]\n",
            " [ 0.49014961 -0.48634315]\n",
            " [ 0.36349531 -0.5871785 ]\n",
            " [ 0.28054315 -1.52282184]\n",
            " [-0.93425224  0.89893818]\n",
            " [-1.4706717   0.32843495]\n",
            " [ 0.78490585  0.53932157]\n",
            " [ 0.17062744 -0.44791402]\n",
            " [ 0.72154247 -0.71226982]\n",
            " [ 0.09213797 -0.43282308]\n",
            " [ 1.00691946 -0.36689401]\n",
            " [ 0.53738433  0.08383571]\n",
            " [ 0.09655585  0.2444392 ]\n",
            " [-0.04837939 -0.63299011]\n",
            " [-0.85181454  0.61345093]\n",
            " [ 0.35807022 -0.3433663 ]\n",
            " [-1.34924014  0.91589084]]\n",
            "[0 1 0 1 0 0 1 0 0 0 0 0 0 0 0 1 0 0 1 0 0 0 0 1 1 1 0 0 1 1 1 0 1 0 1 0 1\n",
            " 0 1 0 0 1 1 0 0 1 1 1 0 1 1 1 0 0 1 1 0 0 1 0 0 1 1 1 0 0 1 0 1 0 1 0 1 1\n",
            " 0 1 0 1 1 0 1 0 0 1 1 1 1 0 0 1 1 1 1 1 1 0 1 0 1 0]\n"
          ]
        }
      ]
    },
    {
      "cell_type": "code",
      "source": [
        "# plotar os pontos com labels 0 em azul e com labels 1 em verde\n",
        "def scatter_plot():\n",
        "  plt.scatter(pts_[labels_==0, 0], pts_[labels_==0,1], c=\"blue\")\n",
        "  plt.scatter(pts_[labels_==1, 0], pts_[labels_==1,1], c=\"green\")\n",
        "  plt.show()"
      ],
      "metadata": {
        "id": "gkHjHfcz-k-Z"
      },
      "execution_count": 44,
      "outputs": []
    },
    {
      "cell_type": "code",
      "source": [
        "# os dados, para uso em redes neurais devem ser apresentados na forma de tensores\n",
        "pts_data = torch.Tensor(pts_)\n",
        "labels_data = torch.Tensor(labels_)"
      ],
      "metadata": {
        "id": "5eBvdcEBDBoi"
      },
      "execution_count": 45,
      "outputs": []
    },
    {
      "cell_type": "code",
      "source": [
        "class Net(nn.Module):\n",
        "  def __init__(self, input_size, output_size):\n",
        "    super(Net, self).__init__()\n",
        "    self.linear = nn.Linear(input_size, output_size)\n",
        "\n",
        "  # aplica a função de ativação sobre a função ou modelo linear proposto\n",
        "  def forward(self, x):\n",
        "    pred = torch.sigmoid(self.linear(x))\n",
        "    return pred\n"
      ],
      "metadata": {
        "id": "SwNgSvqStIE1"
      },
      "execution_count": 46,
      "outputs": []
    },
    {
      "cell_type": "code",
      "source": [
        "torch.manual_seed(2)\n",
        "modelo = Net(2, 1)\n",
        "print(list(modelo.parameters()))"
      ],
      "metadata": {
        "colab": {
          "base_uri": "https://localhost:8080/"
        },
        "id": "bZ_KJaTqutUz",
        "outputId": "a9381095-38ac-4462-a5a3-c891a3d36ce9"
      },
      "execution_count": 47,
      "outputs": [
        {
          "output_type": "stream",
          "name": "stdout",
          "text": [
            "[Parameter containing:\n",
            "tensor([[ 0.1622, -0.1683]], requires_grad=True), Parameter containing:\n",
            "tensor([0.1939], requires_grad=True)]\n"
          ]
        }
      ]
    },
    {
      "cell_type": "code",
      "source": [
        "[w, b] = list(modelo.parameters())\n",
        "w1, w2 = w.view(2)\n",
        "b1 = b[0]\n",
        "\n",
        "def get_params():\n",
        "  return (w1.item(), w2.item(), b1.item())\n",
        "\n",
        "print(get_params())\n"
      ],
      "metadata": {
        "colab": {
          "base_uri": "https://localhost:8080/"
        },
        "id": "vyTW6_YEvqir",
        "outputId": "49a2fc20-2928-4917-ff73-19e677f47b75"
      },
      "execution_count": 48,
      "outputs": [
        {
          "output_type": "stream",
          "name": "stdout",
          "text": [
            "(0.1622033268213272, -0.1682732254266739, 0.1939089596271515)\n"
          ]
        }
      ]
    },
    {
      "cell_type": "code",
      "source": [
        "def plot_fit(title):\n",
        "  plt.title = title\n",
        "  w1, w2, b1 = get_params()\n",
        "  x1 = np.array([-2.0, 2.0])\n",
        "  x2 = (w1*x1 + b1)/(-w2)\n",
        "  plt.plot(x1, x2, 'r')\n",
        "  scatter_plot()\n"
      ],
      "metadata": {
        "id": "WGIJ9EbhxXRw"
      },
      "execution_count": 49,
      "outputs": []
    },
    {
      "cell_type": "code",
      "source": [
        "plot_fit('Inicial')"
      ],
      "metadata": {
        "colab": {
          "base_uri": "https://localhost:8080/",
          "height": 430
        },
        "id": "k3bCftoty7Wf",
        "outputId": "c022852b-e3eb-4523-b49c-69f040fbaabb"
      },
      "execution_count": 50,
      "outputs": [
        {
          "output_type": "display_data",
          "data": {
            "text/plain": [
              "<Figure size 640x480 with 1 Axes>"
            ],
            "image/png": "[encoded data removed]"
          },
          "metadata": {}
        }
      ]
    }
  ]
}