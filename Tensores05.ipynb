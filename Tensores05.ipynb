{
  "nbformat": 4,
  "nbformat_minor": 0,
  "metadata": {
    "colab": {
      "provenance": [],
      "authorship_tag": "ABX9TyNtp9ScH+YQXOU/6YzFtsIf",
      "include_colab_link": true
    },
    "kernelspec": {
      "name": "python3",
      "display_name": "Python 3"
    },
    "language_info": {
      "name": "python"
    }
  },
  "cells": [
    {
      "cell_type": "markdown",
      "metadata": {
        "id": "view-in-github",
        "colab_type": "text"
      },
      "source": [
        "<a href=\"https://colab.research.google.com/github/rogerioMB-hub/google_colab/blob/main/Tensores05.ipynb\" target=\"_parent\"><img src=\"https://colab.research.google.com/assets/colab-badge.svg\" alt=\"Open In Colab\"/></a>"
      ]
    },
    {
      "cell_type": "markdown",
      "source": [
        "# Tensors: matrix product"
      ],
      "metadata": {
        "id": "rjvp18aUIGtI"
      }
    },
    {
      "cell_type": "code",
      "source": [
        "import torch"
      ],
      "metadata": {
        "id": "SQKKkTQvIrqv"
      },
      "execution_count": 7,
      "outputs": []
    },
    {
      "cell_type": "markdown",
      "source": [
        "Creating tensors a and b"
      ],
      "metadata": {
        "id": "0KExyJEEJKID"
      }
    },
    {
      "cell_type": "code",
      "execution_count": 8,
      "metadata": {
        "colab": {
          "base_uri": "https://localhost:8080/"
        },
        "id": "paPMivnXIDO_",
        "outputId": "ab56696c-31da-47d6-997d-2674a1d15f65"
      },
      "outputs": [
        {
          "output_type": "stream",
          "name": "stdout",
          "text": [
            "tensor([[0, 3, 5],\n",
            "        [5, 5, 2]])\n",
            "tensor([[ 3,  4],\n",
            "        [ 3, -2],\n",
            "        [ 4, -2]])\n"
          ]
        }
      ],
      "source": [
        "t_a = torch.tensor([0,3,5,5,5,2]).view(2,3)\n",
        "t_b = torch.tensor([3,4,3,-2,4,-2]).view(3,2)\n",
        "print(t_a)\n",
        "print(t_b)"
      ]
    },
    {
      "cell_type": "markdown",
      "source": [
        "Three diferent ways of multiplication"
      ],
      "metadata": {
        "id": "4lEcK-TgJTTh"
      }
    },
    {
      "cell_type": "code",
      "source": [
        "t_result = torch.mm(t_a,t_b)\n",
        "print(t_result)"
      ],
      "metadata": {
        "colab": {
          "base_uri": "https://localhost:8080/"
        },
        "id": "1ULPFhyCIyMt",
        "outputId": "e23f9d70-b252-481e-c087-ea921066f30b"
      },
      "execution_count": 9,
      "outputs": [
        {
          "output_type": "stream",
          "name": "stdout",
          "text": [
            "tensor([[ 29, -16],\n",
            "        [ 38,   6]])\n"
          ]
        }
      ]
    },
    {
      "cell_type": "code",
      "source": [
        "t_result = torch.matmul(t_a,t_b)\n",
        "print(t_result)\n"
      ],
      "metadata": {
        "colab": {
          "base_uri": "https://localhost:8080/"
        },
        "id": "-SmN09UqI6pd",
        "outputId": "3935c30f-5be7-4268-a778-d7ffe08bdcba"
      },
      "execution_count": 10,
      "outputs": [
        {
          "output_type": "stream",
          "name": "stdout",
          "text": [
            "tensor([[ 29, -16],\n",
            "        [ 38,   6]])\n"
          ]
        }
      ]
    },
    {
      "cell_type": "code",
      "source": [
        "t_result = t_a @ t_b\n",
        "print(t_result)"
      ],
      "metadata": {
        "colab": {
          "base_uri": "https://localhost:8080/"
        },
        "id": "vdkRY0lDI-we",
        "outputId": "ce8c274a-5307-4f64-d587-7ab03eba0f36"
      },
      "execution_count": 11,
      "outputs": [
        {
          "output_type": "stream",
          "name": "stdout",
          "text": [
            "tensor([[ 29, -16],\n",
            "        [ 38,   6]])\n"
          ]
        }
      ]
    }
  ]
}