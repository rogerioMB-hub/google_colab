{
  "nbformat": 4,
  "nbformat_minor": 0,
  "metadata": {
    "colab": {
      "provenance": [],
      "authorship_tag": "ABX9TyM79LKrWbVwORqL/9m5IwDz",
      "include_colab_link": true
    },
    "kernelspec": {
      "name": "python3",
      "display_name": "Python 3"
    },
    "language_info": {
      "name": "python"
    }
  },
  "cells": [
    {
      "cell_type": "markdown",
      "metadata": {
        "id": "view-in-github",
        "colab_type": "text"
      },
      "source": [
        "<a href=\"https://colab.research.google.com/github/rogerioMB-hub/google_colab/blob/main/Predictions02.ipynb\" target=\"_parent\"><img src=\"https://colab.research.google.com/assets/colab-badge.svg\" alt=\"Open In Colab\"/></a>"
      ]
    },
    {
      "cell_type": "code",
      "execution_count": 17,
      "metadata": {
        "id": "lUC3RvcsTS6y"
      },
      "outputs": [],
      "source": [
        "import torch\n",
        "import torch.nn as nn\n",
        "#import numpy as np\n",
        "#import matplotlib.pyplot as plt"
      ]
    },
    {
      "cell_type": "markdown",
      "source": [
        "#01. Criando uma classe para LINEAR REGRESSION (LR)"
      ],
      "metadata": {
        "id": "e8HvTBinTq3R"
      }
    },
    {
      "cell_type": "code",
      "source": [
        "class LinearRegression(torch.nn.Module):\n",
        "  def __init__(self, input_dim, output_dim):              #inicializador/construtor de instancias\n",
        "    super(LinearRegression, self).__init__()\n",
        "    self.linear = torch.nn.Linear(input_dim, output_dim)  #função linear com pesos(w) e bias(b) aleatórios\n",
        "\n",
        "  def forward(self, x):\n",
        "    pred = self.linear(x)\n",
        "    return pred"
      ],
      "metadata": {
        "id": "U3QvA5whf-DL"
      },
      "execution_count": 18,
      "outputs": []
    },
    {
      "cell_type": "code",
      "source": [
        "  torch.manual_seed(1)\n",
        "  model1 = LinearRegression(1, 1)     # criando um objeto model1\n",
        "  print(list(model1.parameters()))    # imprimindo seus parametros em forma de lista para melhor visualização"
      ],
      "metadata": {
        "colab": {
          "base_uri": "https://localhost:8080/"
        },
        "id": "2zhiYl2PgYG7",
        "outputId": "f339a71a-f7ed-41c7-84f9-7517799c8bc0"
      },
      "execution_count": 19,
      "outputs": [
        {
          "output_type": "stream",
          "name": "stdout",
          "text": [
            "[Parameter containing:\n",
            "tensor([[0.5153]], requires_grad=True), Parameter containing:\n",
            "tensor([-0.4414], requires_grad=True)]\n"
          ]
        }
      ]
    },
    {
      "cell_type": "code",
      "source": [
        "x = torch.tensor([1.0])\n",
        "print(model1.forward(x))\n"
      ],
      "metadata": {
        "colab": {
          "base_uri": "https://localhost:8080/"
        },
        "id": "l0nWb81Lh0C2",
        "outputId": "9e108116-45d2-4392-a2e7-439b215b3f2c"
      },
      "execution_count": 20,
      "outputs": [
        {
          "output_type": "stream",
          "name": "stdout",
          "text": [
            "tensor([0.0739], grad_fn=<ViewBackward0>)\n"
          ]
        }
      ]
    },
    {
      "cell_type": "code",
      "source": [
        "x = torch.tensor([[1.0],[2.0],[3.3],[5.8]])  # preds para variaveis diversas\n",
        "print(model1.forward(x))\n"
      ],
      "metadata": {
        "colab": {
          "base_uri": "https://localhost:8080/"
        },
        "id": "tC2cAXi-iioO",
        "outputId": "3a81afdd-e6cd-4de9-e7e7-6e7a294b1135"
      },
      "execution_count": 21,
      "outputs": [
        {
          "output_type": "stream",
          "name": "stdout",
          "text": [
            "tensor([[0.0739],\n",
            "        [0.5891],\n",
            "        [1.2590],\n",
            "        [2.5471]], grad_fn=<AddmmBackward0>)\n"
          ]
        }
      ]
    }
  ]
}