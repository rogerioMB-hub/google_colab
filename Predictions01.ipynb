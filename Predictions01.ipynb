{
  "nbformat": 4,
  "nbformat_minor": 0,
  "metadata": {
    "colab": {
      "provenance": [],
      "authorship_tag": "ABX9TyOW4ijxm6n+Ah0Z+CojmJ0Q",
      "include_colab_link": true
    },
    "kernelspec": {
      "name": "python3",
      "display_name": "Python 3"
    },
    "language_info": {
      "name": "python"
    }
  },
  "cells": [
    {
      "cell_type": "markdown",
      "metadata": {
        "id": "view-in-github",
        "colab_type": "text"
      },
      "source": [
        "<a href=\"https://colab.research.google.com/github/rogerioMB-hub/google_colab/blob/main/Predictions01.ipynb\" target=\"_parent\"><img src=\"https://colab.research.google.com/assets/colab-badge.svg\" alt=\"Open In Colab\"/></a>"
      ]
    },
    {
      "cell_type": "code",
      "execution_count": 1,
      "metadata": {
        "id": "W-gIpdkLILK5"
      },
      "outputs": [],
      "source": [
        "import torch\n"
      ]
    },
    {
      "cell_type": "markdown",
      "source": [
        "# 01. Realizando uma predição/projeção no modelo definido por y"
      ],
      "metadata": {
        "id": "rvhoAw2DKYle"
      }
    },
    {
      "cell_type": "code",
      "source": [
        "w = torch.tensor(3.0, requires_grad=True)\n",
        "b = torch.tensor(1.0, requires_grad=True)\n"
      ],
      "metadata": {
        "id": "xicAFfj4JyEf"
      },
      "execution_count": 2,
      "outputs": []
    },
    {
      "cell_type": "code",
      "source": [
        "def forward(x):\n",
        "    y = w * x + b\n",
        "    return y"
      ],
      "metadata": {
        "id": "s4kOzvpHJ2bF"
      },
      "execution_count": 3,
      "outputs": []
    },
    {
      "cell_type": "code",
      "source": [
        "x = torch.tensor(4.0) # entrando com o valor 4.0 para x, obtém-se na sequencia o respectivo valor para y\n",
        "y = forward(x)\n",
        "print(y)"
      ],
      "metadata": {
        "colab": {
          "base_uri": "https://localhost:8080/"
        },
        "outputId": "c69d5378-a508-4a28-8060-a897036b7ddf",
        "id": "_9K_SZ9-NQqL"
      },
      "execution_count": 5,
      "outputs": [
        {
          "output_type": "stream",
          "name": "stdout",
          "text": [
            "tensor(13., grad_fn=<AddBackward0>)\n"
          ]
        }
      ]
    },
    {
      "cell_type": "code",
      "source": [
        "x = torch.tensor([[4.0], [5.0]]) # entrando com os dados 4.0 e 5.0, obtém-se os respectivos valores para a função\n",
        "y = forward(x)\n",
        "print(y)"
      ],
      "metadata": {
        "colab": {
          "base_uri": "https://localhost:8080/"
        },
        "id": "GOQBWaS6KCOz",
        "outputId": "c0dbe39a-bf82-4fd6-884d-fe0eccd3319c"
      },
      "execution_count": 6,
      "outputs": [
        {
          "output_type": "stream",
          "name": "stdout",
          "text": [
            "tensor([[13.],\n",
            "        [16.]], grad_fn=<AddBackward0>)\n"
          ]
        }
      ]
    },
    {
      "cell_type": "markdown",
      "source": [
        "# 02. Criando uma classe LINEAR"
      ],
      "metadata": {
        "id": "WFvIqmKaKp2d"
      }
    },
    {
      "cell_type": "code",
      "source": [
        "from torch.nn import Linear"
      ],
      "metadata": {
        "id": "5cBcSSCmOUAG"
      },
      "execution_count": 7,
      "outputs": []
    },
    {
      "cell_type": "code",
      "source": [
        "torch.manual_seed(1)  # gerando uma semente para construção de numeros aleatórios"
      ],
      "metadata": {
        "colab": {
          "base_uri": "https://localhost:8080/"
        },
        "id": "Xvza-KNnOZTj",
        "outputId": "96599ab0-9822-4770-9204-2bee62f7c756"
      },
      "execution_count": 8,
      "outputs": [
        {
          "output_type": "execute_result",
          "data": {
            "text/plain": [
              "<torch._C.Generator at 0x7869ac362090>"
            ]
          },
          "metadata": {},
          "execution_count": 8
        }
      ]
    },
    {
      "cell_type": "code",
      "source": [
        "model = Linear(in_features=1, out_features=1) # cria um modelo linear com 1 parametro de entrada e 1 de saída.\n",
        "print(model.weight)   # w é gerado aleatoriamente\n",
        "print(model.bias)     # b é gerado aleatoriamente"
      ],
      "metadata": {
        "colab": {
          "base_uri": "https://localhost:8080/"
        },
        "id": "_uO2jvBhOsqn",
        "outputId": "dda5fc45-918f-4fbe-edd1-760926374301"
      },
      "execution_count": 11,
      "outputs": [
        {
          "output_type": "stream",
          "name": "stdout",
          "text": [
            "Parameter containing:\n",
            "tensor([[-0.1939]], requires_grad=True)\n",
            "Parameter containing:\n",
            "tensor([0.4694], requires_grad=True)\n"
          ]
        }
      ]
    },
    {
      "cell_type": "code",
      "source": [
        "x = torch.tensor([[2.0],[3.3]]) # para cada entrada, uma predição: aqui são duas entradas ...\n",
        "y = model(x)\n",
        "print(y)"
      ],
      "metadata": {
        "colab": {
          "base_uri": "https://localhost:8080/"
        },
        "id": "jm8V_Z-rPpnD",
        "outputId": "7835bcd3-6052-42ff-aaea-619fd7431a75"
      },
      "execution_count": 14,
      "outputs": [
        {
          "output_type": "stream",
          "name": "stdout",
          "text": [
            "tensor([[ 0.0816],\n",
            "        [-0.1704]], grad_fn=<AddmmBackward0>)\n"
          ]
        }
      ]
    }
  ]
}